{
  "nbformat": 4,
  "nbformat_minor": 0,
  "metadata": {
    "colab": {
      "provenance": []
    },
    "kernelspec": {
      "name": "python3",
      "display_name": "Python 3"
    },
    "language_info": {
      "name": "python"
    }
  },
  "cells": [
    {
      "cell_type": "code",
      "source": [
        "import requests\n",
        "import json\n",
        "\n",
        "URL = 'https://www.googleapis.com/youtube/v3/'\n",
        "API_KEY = '自分のAPIキーを入力'\n",
        "video_id = '動画IDを入力'\n",
        "\n",
        "def get_video_comment(video_id, n=1, next_page_token=None):\n",
        "    params = {\n",
        "        'key': API_KEY,\n",
        "        'part': 'snippet',\n",
        "        'videoId': video_id,\n",
        "        'order': 'relevance',\n",
        "        'textFormat': 'plaintext',\n",
        "        'maxResults': n,\n",
        "        'pageToken': next_page_token,\n",
        "    }\n",
        "    response = requests.get(URL + 'commentThreads', params=params)\n",
        "    return response.json()\n",
        "\n",
        "\"\"\"\n",
        "pageToken = None\n",
        "id_to_com = {}\n",
        "id = 0\n",
        "field_name = [\"id\",\"コメント\",\"的外れ度\"]\n",
        "data=[]\n",
        "\n",
        "\n",
        "while True:\n",
        "    resource = get_video_comment(video_id, n=100, next_page_token=pageToken)\n",
        "    comments = resource[\"items\"]\n",
        "    for comment in comments:\n",
        "        text = comment['snippet']['topLevelComment']['snippet']['textDisplay']\n",
        "        id_to_com[id] = text\n",
        "        text = text.replace(\",\",\"、\")\n",
        "        data.append({\"id\":id, \"コメント\":text, \"的外れ度\":0})\n",
        "        id+= 1\n",
        "        #print(text)\n",
        "\n",
        "    if \"nextPageToken\" in resource:\n",
        "        pageToken = resource[\"nextPageToken\"]\n",
        "    else:\n",
        "        break\n",
        "\"\"\""
      ],
      "metadata": {
        "id": "o-5nTMslcEpD"
      },
      "execution_count": null,
      "outputs": []
    },
    {
      "cell_type": "code",
      "source": [
        "for i in range(len(id_to_com)):\n",
        "  print(\"{} : {}\".format(i, id_to_com[i]))"
      ],
      "metadata": {
        "id": "UYn59e_FdWki"
      },
      "execution_count": null,
      "outputs": []
    },
    {
      "cell_type": "code",
      "source": [
        "import csv\n",
        "# CSVファイルの保管先\n",
        "csv_path = \"/content/drive/MyDrive/\"\n",
        "# CSVファイル名\n",
        "csv_name = 'out_name.csv'\n",
        "field_name = [\"id\",\"コメント\",\"的外れ度\"]\n",
        "# リストをCSVファイルに出力（'w'の場合は、新規作成）\n",
        "with open(csv_path+csv_name, 'w', newline='') as f:\n",
        "    writer = csv.DictWriter(f, fieldnames = field_name)\n",
        "    writer.writeheader()\n",
        "\n",
        "    #writer.writerows(data)"
      ],
      "metadata": {
        "id": "9KhxTtGo-XNi"
      },
      "execution_count": null,
      "outputs": []
    },
    {
      "cell_type": "code",
      "source": [
        "import csv\n",
        "\n",
        "input_csv = []\n",
        "csvfile = open('/content/drive/My Drive/out_name.csv', encoding='utf-8')\n",
        "csvreader = csv.DictReader(csvfile)#OrderedDict型になってる\n",
        "\n",
        "for row in csvreader:\n",
        "  input_csv.append(row)"
      ],
      "metadata": {
        "id": "P8gq33wJXQNx"
      },
      "execution_count": null,
      "outputs": []
    },
    {
      "cell_type": "code",
      "source": [
        "out_focus_list= [119, 173, 182, 184, 202, 236, 275, 397, 433, 441, 458, 465, 494, 518, 525, 534, 545, 559, 593, 632, 651,  652, 658, 699, 705, 706, 718, 723, 726, 734, 748, 753, 754, 766, 771, 775, 817, 832, 848, 854, 861, 869, 880, 901, 913, 920, 936, 940, 951, 961, 975, 976, 977, 978,  985, 989, 992, 994, 1010, 1029, 1042, 1062, 1072, 1076, 1088, 1099, 1112, 1128, 1135, 1136, 1137, 1141, 1144, 1150]  \n",
        "new_list = []\n",
        "for i in out_focus_list:\n",
        "  new_list.append(input_csv[i])"
      ],
      "metadata": {
        "id": "PC7xl1pR6_Sg"
      },
      "execution_count": null,
      "outputs": []
    },
    {
      "cell_type": "code",
      "source": [
        "import csv\n",
        "# CSVファイルの保管先\n",
        "csv_path = \"/content/drive/MyDrive/\"\n",
        "# CSVファイル名\n",
        "csv_name = 'out_focus.csv'\n",
        "field_name = [\"id\",\"コメント\",\"的外れ度\"]\n",
        "# リストをCSVファイルに出力（'w'の場合は、新規作成）\n",
        "with open(csv_path+csv_name, 'w', newline='') as f:\n",
        "    writer = csv.DictWriter(f, fieldnames = field_name)\n",
        "    writer.writeheader()\n",
        "    writer.writerows(new_list)"
      ],
      "metadata": {
        "id": "7LIzGpNq7G5K"
      },
      "execution_count": null,
      "outputs": []
    },
    {
      "cell_type": "code",
      "source": [
        "import pandas as pd\n",
        " \n",
        "# CSVファイルの読み込み\n",
        "data = pd.read_csv('drive/MyDrive/out_focus.csv')\n",
        " \n",
        "# Excel形式で出力\n",
        "data.to_excel('excel-data.xlsx', encoding='utf-8')"
      ],
      "metadata": {
        "id": "Sv7B8DodrOFK"
      },
      "execution_count": null,
      "outputs": []
    }
  ]
}